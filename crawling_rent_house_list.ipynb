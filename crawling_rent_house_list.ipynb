{
 "cells": [
  {
   "cell_type": "code",
   "execution_count": 1,
   "metadata": {},
   "outputs": [],
   "source": [
    "import requests\n",
    "import re\n",
    "import pandas as pd\n",
    "from tqdm.notebook import tqdm\n",
    "from bs4 import BeautifulSoup"
   ]
  },
  {
   "cell_type": "code",
   "execution_count": 2,
   "metadata": {},
   "outputs": [
    {
     "data": {
      "application/vnd.jupyter.widget-view+json": {
       "model_id": "15c2b202c7c9494aa6873cc0ad1260be",
       "version_major": 2,
       "version_minor": 0
      },
      "text/plain": [
       "  0%|          | 0/70 [00:00<?, ?it/s]"
      ]
     },
     "metadata": {},
     "output_type": "display_data"
    },
    {
     "name": "stderr",
     "output_type": "stream",
     "text": [
      "C:\\Users\\rmstn\\AppData\\Local\\Temp\\ipykernel_23592\\1210179502.py:23: FutureWarning: DataFrame.applymap has been deprecated. Use DataFrame.map instead.\n",
      "  df = df.applymap(lambda x: x.replace('  ', '').strip() if isinstance(x, str) else x)\n"
     ]
    }
   ],
   "source": [
    "url_list = [f'https://www.khug.or.kr/jeonse/web/s07/s070102.jsp?cur_page={i}' for i in range(1, 71)]\n",
    "\n",
    "# url에서 가져온 html에서 class_name이 'mb d_list'인 table을 찾아서 df로 만들고 리스트를 concat\\\n",
    "df_list = []\n",
    "for url in tqdm(url_list):\n",
    "    response = requests.get(url)\n",
    "    soup = BeautifulSoup(response.text, 'html.parser')\n",
    "    table = soup.find('table')\n",
    "    for i, tr in enumerate(table.find_all('tr')):\n",
    "        if i == 0:\n",
    "            columns = [th.text for th in tr.find_all('th')]+['안심전세포털']\n",
    "            df_tmp = pd.DataFrame(columns=columns)\n",
    "        else:\n",
    "            values = [td.text for td in tr.find_all('td')]\n",
    "            link = 'https://www.khug.or.kr/jeonse/web/s07/'+tr.find('a')['href']\n",
    "            values.append(link)\n",
    "            df_tmp = pd.concat([df_tmp, pd.DataFrame([values], columns=columns)], ignore_index=True)\n",
    "    df_list.append(df_tmp)\n",
    "\n",
    "df = pd.concat(df_list, ignore_index=True)\n",
    "df.drop(columns=['청약 접수기간', '번호', '공고일자'], inplace=True)\n",
    "df.rename(columns={'전용면적(m2)':'전용면적','임대보증금액':'보증금'}, inplace=True)\n",
    "df = df.applymap(lambda x: x.replace('  ', '').strip() if isinstance(x, str) else x)"
   ]
  },
  {
   "cell_type": "code",
   "execution_count": null,
   "metadata": {},
   "outputs": [
    {
     "data": {
      "text/html": [
       "<div>\n",
       "<style scoped>\n",
       "    .dataframe tbody tr th:only-of-type {\n",
       "        vertical-align: middle;\n",
       "    }\n",
       "\n",
       "    .dataframe tbody tr th {\n",
       "        vertical-align: top;\n",
       "    }\n",
       "\n",
       "    .dataframe thead th {\n",
       "        text-align: right;\n",
       "    }\n",
       "</style>\n",
       "<table border=\"1\" class=\"dataframe\">\n",
       "  <thead>\n",
       "    <tr style=\"text-align: right;\">\n",
       "      <th></th>\n",
       "      <th>시도</th>\n",
       "      <th>시군구</th>\n",
       "      <th>주소</th>\n",
       "      <th>주택유형</th>\n",
       "      <th>매입유형</th>\n",
       "      <th>전용면적</th>\n",
       "      <th>보증금</th>\n",
       "      <th>신청자수</th>\n",
       "    </tr>\n",
       "  </thead>\n",
       "  <tbody>\n",
       "    <tr>\n",
       "      <th>689</th>\n",
       "      <td>서울특별시</td>\n",
       "      <td>서울 양천구</td>\n",
       "      <td>서울 양천구 목동 713-9 에이앤캐슬 4층 404호</td>\n",
       "      <td>오피스텔(주거용)</td>\n",
       "      <td>경매등매입형</td>\n",
       "      <td>52.49</td>\n",
       "      <td>250,200,000</td>\n",
       "      <td>19</td>\n",
       "    </tr>\n",
       "    <tr>\n",
       "      <th>685</th>\n",
       "      <td>서울특별시</td>\n",
       "      <td>서울 강서구</td>\n",
       "      <td>서울 강서구 화곡동 346-57 마크하우스 6층 601호</td>\n",
       "      <td>다세대주택</td>\n",
       "      <td>경매등매입형</td>\n",
       "      <td>39.0</td>\n",
       "      <td>247,500,000</td>\n",
       "      <td>5</td>\n",
       "    </tr>\n",
       "    <tr>\n",
       "      <th>671</th>\n",
       "      <td>서울특별시</td>\n",
       "      <td>서울 양천구</td>\n",
       "      <td>서울 양천구 신정동 1000-12, 1000-13 건향파크빌8차 5층 501호</td>\n",
       "      <td>다세대주택</td>\n",
       "      <td>경매등매입형</td>\n",
       "      <td>33.7</td>\n",
       "      <td>234,900,000</td>\n",
       "      <td>4</td>\n",
       "    </tr>\n",
       "    <tr>\n",
       "      <th>618</th>\n",
       "      <td>서울특별시</td>\n",
       "      <td>서울 강서구</td>\n",
       "      <td>서울 강서구 화곡동 875-9, 875-10 아줄리움 6층 603호</td>\n",
       "      <td>다세대주택</td>\n",
       "      <td>경매등매입형</td>\n",
       "      <td>36.53</td>\n",
       "      <td>207,000,000</td>\n",
       "      <td>0</td>\n",
       "    </tr>\n",
       "  </tbody>\n",
       "</table>\n",
       "</div>"
      ],
      "text/plain": [
       "        시도     시군구                                           주소       주택유형  \\\n",
       "689  서울특별시  서울 양천구                서울 양천구 목동 713-9 에이앤캐슬 4층 404호  오피스텔(주거용)   \n",
       "685  서울특별시  서울 강서구              서울 강서구 화곡동 346-57 마크하우스 6층 601호      다세대주택   \n",
       "671  서울특별시  서울 양천구  서울 양천구 신정동 1000-12, 1000-13 건향파크빌8차 5층 501호      다세대주택   \n",
       "618  서울특별시  서울 강서구        서울 강서구 화곡동 875-9, 875-10 아줄리움 6층 603호      다세대주택   \n",
       "\n",
       "       매입유형   전용면적          보증금  신청자수  \n",
       "689  경매등매입형  52.49  250,200,000    19  \n",
       "685  경매등매입형   39.0  247,500,000     5  \n",
       "671  경매등매입형   33.7  234,900,000     4  \n",
       "618  경매등매입형  36.53  207,000,000     0  "
      ]
     },
     "execution_count": 12,
     "metadata": {},
     "output_type": "execute_result"
    }
   ],
   "source": [
    "df['신청자수'] = df['신청자수'].astype(int)\n",
    "df[(df['시도']=='서울특별시')&(df['전용면적']>='40')].sort_values('신청자수', ascending=False).head(20)[df.columns[:8]]"
   ]
  },
  {
   "cell_type": "code",
   "execution_count": 10,
   "metadata": {},
   "outputs": [],
   "source": [
    "df = df[['시도','시군구','주소','주택유형','매입유형','전용면적','보증금','안심전세포털']]\n",
    "df.to_excel('rent_house_list.xlsx', index=False)"
   ]
  }
 ],
 "metadata": {
  "kernelspec": {
   "display_name": "Python 3",
   "language": "python",
   "name": "python3"
  },
  "language_info": {
   "codemirror_mode": {
    "name": "ipython",
    "version": 3
   },
   "file_extension": ".py",
   "mimetype": "text/x-python",
   "name": "python",
   "nbconvert_exporter": "python",
   "pygments_lexer": "ipython3",
   "version": "3.13.2"
  }
 },
 "nbformat": 4,
 "nbformat_minor": 2
}
