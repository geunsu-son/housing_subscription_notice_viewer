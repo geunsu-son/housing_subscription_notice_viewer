{
 "cells": [
  {
   "cell_type": "code",
   "execution_count": null,
   "metadata": {},
   "outputs": [],
   "source": [
    "import requests\n",
    "import pandas as pd\n",
    "from bs4 import BeautifulSoup"
   ]
  },
  {
   "cell_type": "code",
   "execution_count": null,
   "metadata": {},
   "outputs": [],
   "source": [
    "url_list = [f'https://www.khug.or.kr/jeonse/web/s07/s070102.jsp?cur_page={i}' for i in range(1, 61)]\n",
    "\n",
    "# url에서 가져온 html에서 class_name이 'mb d_list'인 table을 찾아서 df로 만들고 리스트를 concat\\\n",
    "df_list = []\n",
    "for url in url_list:\n",
    "    response = requests.get(url)\n",
    "    soup = BeautifulSoup(response.text, 'html.parser')\n",
    "    table = soup.find('table')\n",
    "    for i, tr in enumerate(table.find_all('tr')):\n",
    "        if i == 0:\n",
    "            columns = [th.text for th in tr.find_all('th')]+['안심전세포털']\n",
    "            df_tmp = pd.DataFrame(columns=columns)\n",
    "        else:\n",
    "            values = [td.text for td in tr.find_all('td')]\n",
    "            link = 'https://www.khug.or.kr/jeonse/web/s07/'+tr.find('a')['href']\n",
    "            values.append(link)\n",
    "            df_tmp = pd.concat([df_tmp, pd.DataFrame([values], columns=columns)], ignore_index=True)\n",
    "    df_list.append(df_tmp)\n",
    "\n",
    "df = pd.concat(df_list, ignore_index=True)\n",
    "df.drop(columns=['청약 접수기간', '번호', '공고일자','신청자수'], inplace=True)\n",
    "df = df.applymap(lambda x: x.replace('  ', '').strip())\n",
    "df['네이버지도'] = df['주소'].apply(lambda x: f'https://map.naver.com/p/search/{x}')"
   ]
  },
  {
   "cell_type": "code",
   "execution_count": null,
   "metadata": {},
   "outputs": [],
   "source": [
    "df.to_csv('rent_house_list.csv', index=False, encoding='utf-8-sig')"
   ]
  }
 ],
 "metadata": {
  "kernelspec": {
   "display_name": "Python 3",
   "language": "python",
   "name": "python3"
  },
  "language_info": {
   "codemirror_mode": {
    "name": "ipython",
    "version": 3
   },
   "file_extension": ".py",
   "mimetype": "text/x-python",
   "name": "python",
   "nbconvert_exporter": "python",
   "pygments_lexer": "ipython3",
   "version": "3.13.2"
  }
 },
 "nbformat": 4,
 "nbformat_minor": 2
}
